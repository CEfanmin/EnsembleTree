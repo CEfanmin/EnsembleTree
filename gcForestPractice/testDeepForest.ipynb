{
 "cells": [
  {
   "cell_type": "code",
   "execution_count": 2,
   "metadata": {
    "collapsed": false
   },
   "outputs": [
    {
     "ename": "ImportError",
     "evalue": "No module named 'deep_forest'",
     "traceback": [
      "\u001b[1;31m---------------------------------------------------------------------------\u001b[0m",
      "\u001b[1;31mImportError\u001b[0m                               Traceback (most recent call last)",
      "\u001b[1;32m<ipython-input-2-f9d06b07885b>\u001b[0m in \u001b[0;36m<module>\u001b[1;34m()\u001b[0m\n\u001b[0;32m      2\u001b[0m \u001b[1;32mfrom\u001b[0m \u001b[0msklearn\u001b[0m\u001b[1;33m.\u001b[0m\u001b[0mmetrics\u001b[0m \u001b[1;32mimport\u001b[0m \u001b[0maccuracy_score\u001b[0m\u001b[1;33m,\u001b[0m \u001b[0mf1_score\u001b[0m\u001b[1;33m\u001b[0m\u001b[0m\n\u001b[0;32m      3\u001b[0m \u001b[1;32mfrom\u001b[0m \u001b[0msklearn\u001b[0m\u001b[1;33m.\u001b[0m\u001b[0mmodel_selection\u001b[0m \u001b[1;32mimport\u001b[0m \u001b[0mShuffleSplit\u001b[0m\u001b[1;33m\u001b[0m\u001b[0m\n\u001b[1;32m----> 4\u001b[1;33m \u001b[1;32mfrom\u001b[0m \u001b[0mdeep_forest\u001b[0m \u001b[1;32mimport\u001b[0m \u001b[0mMGCForest\u001b[0m\u001b[1;33m\u001b[0m\u001b[0m\n\u001b[0m\u001b[0;32m      5\u001b[0m \u001b[1;32mimport\u001b[0m \u001b[0mpandas\u001b[0m \u001b[1;32mas\u001b[0m \u001b[0mpd\u001b[0m\u001b[1;33m\u001b[0m\u001b[0m\n\u001b[0;32m      6\u001b[0m \u001b[1;32mimport\u001b[0m \u001b[0mnumpy\u001b[0m \u001b[1;32mas\u001b[0m \u001b[0mnp\u001b[0m\u001b[1;33m\u001b[0m\u001b[0m\n",
      "\u001b[1;31mImportError\u001b[0m: No module named 'deep_forest'"
     ],
     "output_type": "error"
    }
   ],
   "source": [
    "from sklearn.ensemble import ExtraTreesClassifier, RandomForestClassifier\n",
    "from sklearn.metrics import accuracy_score, f1_score\n",
    "from sklearn.model_selection import ShuffleSplit\n",
    "from deep_forest import MGCForest\n",
    "import pandas as pd\n",
    "import numpy as np\n",
    "from time import time\n",
    "\n",
    "def preprocess_features(X):\n",
    "\t\"\"\"\n",
    "\tPreprocesses the student data and converts non-numeric binary variables into\n",
    "\tbinary (0/1) variables. Converts categorical variables into dummy variables.\n",
    "\t\"\"\"\n",
    "\t# Initialize new output DataFrame\n",
    "\toutput = pd.DataFrame(index=X.index)\n",
    "\t# Investigate each feature column for the data\n",
    "\tfor col, col_data in X.iteritems():\n",
    "\t\t# If data type is non-numeric, replace all yes/no values with 1/0\n",
    "\t\tif col_data.dtype == object:\n",
    "\t\t\tcol_data = col_data.replace(['yes', 'no'], [1, 0])\n",
    "\t\t# If data type is categorical, convert to dummy variables\n",
    "\t\tif col_data.dtype == object:\n",
    "\t\t\t# Example: 'school' => 'school_GP' and 'school_MS'\n",
    "\t\t\tcol_data = pd.get_dummies(col_data, prefix=col)\n",
    "\t\t# Collect the revised columns\n",
    "\t\toutput = output.join(col_data)\n",
    "\treturn output\n",
    "\n",
    "if __name__ == '__main__':\n",
    "\n",
    "\t# Read student data\n",
    "\tstudent_data = pd.read_csv(\"student-data.csv\")\n",
    "\t# print (\"Student data read successfully!\")\n",
    "\tfeature_cols = list(student_data.columns[:-1])\n",
    "\ttarget_col = student_data.columns[-1]\n",
    "\tX_all = student_data[feature_cols]\n",
    "\ty_all = student_data[target_col]\n",
    "\tX_all = preprocess_features(X_all)\n",
    "\t# print (\"Processed feature columns ({} total features):\\n{}\".format(len(X_all.columns), list(X_all.columns)))\n",
    "\t# print (X_all.shape)\n",
    "\n",
    "\trs = ShuffleSplit(n_splits=1, test_size=0.2, random_state=42)\n",
    "\tfor train_index, test_index in rs.split(X_all):\n",
    "\t\tX_train = X_all.iloc[train_index]\n",
    "\t\tX_test = X_all.iloc[test_index]\n",
    "\t\ty_train = y_all.iloc[train_index]\n",
    "\t\ty_test = y_all.iloc[test_index]\n",
    "\n",
    "\tX_train = np.array(X_train)\n",
    "\tX_test = np.array(X_test)\n",
    "\ty_train = np.array(y_train)\n",
    "\ty_test = np.array(y_test)\n",
    "\n",
    "\tmgc_forest = MGCForest(\n",
    "\t    estimators_config={\n",
    "\t        'mgs': [{\n",
    "\t            'estimator_class': ExtraTreesClassifier,\n",
    "\t            'estimator_params': {\n",
    "\t                'n_estimators': 3,\n",
    "\t                'min_samples_split': 11,\n",
    "\t                'n_jobs': -1,\n",
    "\t            }\n",
    "\t        }, {\n",
    "\t            'estimator_class': RandomForestClassifier,\n",
    "\t            'estimator_params': {\n",
    "\t                'n_estimators': 3,\n",
    "\t                'min_samples_split': 11,\n",
    "\t                'n_jobs': -1,\n",
    "\t            }\n",
    "\t        }],\n",
    "\t        'cascade': [{\n",
    "\t            'estimator_class': ExtraTreesClassifier,\n",
    "\t            'estimator_params': {\n",
    "\t                'n_estimators': 100,\n",
    "\t                'min_samples_split': 6,\n",
    "\t                'max_features': 1,\n",
    "\t                'n_jobs': -1,\n",
    "\t            }\n",
    "\t        }, {\n",
    "\t            'estimator_class': ExtraTreesClassifier,\n",
    "\t            'estimator_params': {\n",
    "\t                'n_estimators': 100,\n",
    "\t                'min_samples_split': 6,\n",
    "\t                'max_features': 'sqrt',\n",
    "\t                'n_jobs': -1,\n",
    "\t            }\n",
    "\t        }, {\n",
    "\t            'estimator_class': RandomForestClassifier,\n",
    "\t            'estimator_params': {\n",
    "\t                'n_estimators': 100,\n",
    "\t                'min_samples_split': 6,\n",
    "\t                'max_features': 1,\n",
    "\t                'n_jobs': -1,\n",
    "\t            }\n",
    "\t        }, {\n",
    "\t            'estimator_class': RandomForestClassifier,\n",
    "\t            'estimator_params': {\n",
    "\t                'n_estimators': 100,\n",
    "\t                'min_samples_split': 6,\n",
    "\t                'max_features': 'sqrt',\n",
    "\t                'n_jobs': -1,\n",
    "\t            }\n",
    "\t        }]\n",
    "\t    },\n",
    "\t    stride_ratios=[1.0/4, 1.0/8],\n",
    "\t)\n",
    "\tstart = time()\n",
    "\tmgc_forest.fit(X_train, y_train)\n",
    "\tend = time()\n",
    "\tprint ('fit time is: ', end - start)"
   ]
  },
  {
   "cell_type": "code",
   "execution_count": 3,
   "metadata": {
    "collapsed": false
   },
   "outputs": [
    {
     "ename": "NameError",
     "evalue": "name 'mgc_forest' is not defined",
     "traceback": [
      "\u001b[1;31m---------------------------------------------------------------------------\u001b[0m",
      "\u001b[1;31mNameError\u001b[0m                                 Traceback (most recent call last)",
      "\u001b[1;32m<ipython-input-3-b826f164ec31>\u001b[0m in \u001b[0;36m<module>\u001b[1;34m()\u001b[0m\n\u001b[1;32m----> 1\u001b[1;33m \u001b[0my_pred\u001b[0m \u001b[1;33m=\u001b[0m \u001b[0mmgc_forest\u001b[0m\u001b[1;33m.\u001b[0m\u001b[0mpredict\u001b[0m\u001b[1;33m(\u001b[0m\u001b[0mX_test\u001b[0m\u001b[1;33m)\u001b[0m\u001b[1;33m\u001b[0m\u001b[0m\n\u001b[0m\u001b[0;32m      2\u001b[0m \u001b[1;33m\u001b[0m\u001b[0m\n\u001b[0;32m      3\u001b[0m \u001b[0mprint\u001b[0m\u001b[1;33m(\u001b[0m\u001b[1;34m'Prediction shape:'\u001b[0m\u001b[1;33m,\u001b[0m \u001b[0my_pred\u001b[0m\u001b[1;33m.\u001b[0m\u001b[0mshape\u001b[0m\u001b[1;33m)\u001b[0m\u001b[1;33m\u001b[0m\u001b[0m\n\u001b[0;32m      4\u001b[0m print(\n\u001b[0;32m      5\u001b[0m     \u001b[1;34m'Accuracy:'\u001b[0m\u001b[1;33m,\u001b[0m \u001b[0maccuracy_score\u001b[0m\u001b[1;33m(\u001b[0m\u001b[0my_test\u001b[0m\u001b[1;33m,\u001b[0m \u001b[0my_pred\u001b[0m\u001b[1;33m)\u001b[0m\u001b[1;33m,\u001b[0m\u001b[1;33m\u001b[0m\u001b[0m\n",
      "\u001b[1;31mNameError\u001b[0m: name 'mgc_forest' is not defined"
     ],
     "output_type": "error"
    }
   ],
   "source": [
    "y_pred = mgc_forest.predict(X_test)\n",
    "\n",
    "print('Prediction shape:', y_pred.shape)\n",
    "print(\n",
    "    'Accuracy:', accuracy_score(y_test, y_pred),\n",
    "    'F1 score:', f1_score(y_test, y_pred, average='weighted')\n",
    ")"
   ]
  },
  {
   "cell_type": "code",
   "execution_count": null,
   "metadata": {
    "collapsed": true
   },
   "outputs": [],
   "source": [
    ""
   ]
  }
 ],
 "metadata": {
  "anaconda-cloud": {},
  "kernelspec": {
   "display_name": "Python [conda root]",
   "language": "python",
   "name": "conda-root-py"
  },
  "language_info": {
   "codemirror_mode": {
    "name": "ipython",
    "version": 3.0
   },
   "file_extension": ".py",
   "mimetype": "text/x-python",
   "name": "python",
   "nbconvert_exporter": "python",
   "pygments_lexer": "ipython3",
   "version": "3.5.2"
  }
 },
 "nbformat": 4,
 "nbformat_minor": 0
}